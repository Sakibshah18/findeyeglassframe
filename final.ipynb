{
  "cells": [
    {
      "cell_type": "code",
      "execution_count": 4,
      "metadata": {
        "id": "QwK5GDdGWqGm"
      },
      "outputs": [
        {
          "ename": "ModuleNotFoundError",
          "evalue": "No module named 'tensorflow'",
          "output_type": "error",
          "traceback": [
            "\u001b[1;31m---------------------------------------------------------------------------\u001b[0m",
            "\u001b[1;31mModuleNotFoundError\u001b[0m                       Traceback (most recent call last)",
            "\u001b[1;32m<ipython-input-4-326b6fed4565>\u001b[0m in \u001b[0;36m<module>\u001b[1;34m\u001b[0m\n\u001b[1;32m----> 1\u001b[1;33m \u001b[1;32mfrom\u001b[0m \u001b[0mtensorflow\u001b[0m\u001b[1;33m.\u001b[0m\u001b[0mkeras\u001b[0m\u001b[1;33m.\u001b[0m\u001b[0mmodels\u001b[0m \u001b[1;32mimport\u001b[0m \u001b[0mSequential\u001b[0m\u001b[1;33m\u001b[0m\u001b[1;33m\u001b[0m\u001b[0m\n\u001b[0m\u001b[0;32m      2\u001b[0m \u001b[1;32mfrom\u001b[0m \u001b[0mtensorflow\u001b[0m\u001b[1;33m.\u001b[0m\u001b[0mkeras\u001b[0m\u001b[1;33m.\u001b[0m\u001b[0mlayers\u001b[0m \u001b[1;32mimport\u001b[0m \u001b[0mConv2D\u001b[0m\u001b[1;33m,\u001b[0m \u001b[0mMaxPooling2D\u001b[0m\u001b[1;33m,\u001b[0m \u001b[0mFlatten\u001b[0m\u001b[1;33m,\u001b[0m \u001b[0mDense\u001b[0m\u001b[1;33m\u001b[0m\u001b[1;33m\u001b[0m\u001b[0m\n\u001b[0;32m      3\u001b[0m \u001b[1;32mfrom\u001b[0m \u001b[0mtensorflow\u001b[0m\u001b[1;33m.\u001b[0m\u001b[0mkeras\u001b[0m\u001b[1;33m.\u001b[0m\u001b[0moptimizers\u001b[0m \u001b[1;32mimport\u001b[0m \u001b[0mAdam\u001b[0m\u001b[1;33m\u001b[0m\u001b[1;33m\u001b[0m\u001b[0m\n\u001b[0;32m      4\u001b[0m \u001b[1;32mimport\u001b[0m \u001b[0mpandas\u001b[0m \u001b[1;32mas\u001b[0m \u001b[0mpd\u001b[0m\u001b[1;33m\u001b[0m\u001b[1;33m\u001b[0m\u001b[0m\n\u001b[0;32m      5\u001b[0m \u001b[1;32mimport\u001b[0m \u001b[0mcv2\u001b[0m \u001b[1;32mas\u001b[0m \u001b[0mcv\u001b[0m\u001b[1;33m\u001b[0m\u001b[1;33m\u001b[0m\u001b[0m\n",
            "\u001b[1;31mModuleNotFoundError\u001b[0m: No module named 'tensorflow'"
          ]
        }
      ],
      "source": [
        "from tensorflow.keras.models import Sequential\n",
        "from tensorflow.keras.layers import Conv2D, MaxPooling2D, Flatten, Dense\n",
        "from tensorflow.keras.optimizers import Adam\n",
        "import pandas as pd\n",
        "import cv2 as cv\n",
        "import numpy as np\n",
        "import matplotlib.pyplot as plt\n",
        "import os\n",
        "import seaborn as sns"
      ]
    },
    {
      "cell_type": "code",
      "execution_count": 2,
      "metadata": {
        "colab": {
          "base_uri": "https://localhost:8080/"
        },
        "id": "b1JhYa8cWuwC",
        "outputId": "76c45c29-168d-4963-f6b8-74c6f3596bf7"
      },
      "outputs": [
        {
          "name": "stdout",
          "output_type": "stream",
          "text": [
            "Mounted at /content/drive\n"
          ]
        }
      ],
      "source": [
        "from google.colab import drive\n",
        "drive.mount('/content/drive')"
      ]
    },
    {
      "cell_type": "code",
      "execution_count": 3,
      "metadata": {
        "colab": {
          "base_uri": "https://localhost:8080/"
        },
        "id": "Il0NECtgW7Xj",
        "outputId": "e8b05aef-4532-4fe7-dfa0-712a99f82e5a"
      },
      "outputs": [
        {
          "name": "stdout",
          "output_type": "stream",
          "text": [
            "All subfolders present in TRAIN_DATASET path.\n",
            "All subfolders present in TEST_DATASET path.\n",
            "All subfolders present in TRAIN_DATASET path.\n",
            "All subfolders present in TEST_DATASET path.\n",
            "All subfolders present in TEST_DATASET path.\n"
          ]
        }
      ],
      "source": [
        "TRAIN_DATASET=\"/content/drive/MyDrive/Colab Notebooks/Face set/Train face\"\n",
        "TEST_DATASET=\"/content/drive/MyDrive/Colab Notebooks/Face set/Test face\"\n",
        "TEST_FRAME=\"/content/drive/MyDrive/Colab Notebooks/Face set/Train frame\"\n",
        "\n",
        "CATEGORIES=[\"heart\",\"long\",\"oval\",\"round\",\"square\"]\n",
        "\n",
        "import os\n",
        "def validate_subfolders(path, categories):\n",
        "    missing_folders = []\n",
        "    for category in categories:\n",
        "        category_path = os.path.join(path, category)\n",
        "        if not os.path.exists(category_path):\n",
        "            missing_folders.append(category)\n",
        "    return missing_folders\n",
        "TRAIN_DATASET=\"/content/drive/MyDrive/Colab Notebooks/Face set/Train face\"\n",
        "TEST_DATASET=\"/content/drive/MyDrive/Colab Notebooks/Face set/Test face\"\n",
        "TEST_FRAME=\"/content/drive/MyDrive/Colab Notebooks/Face set/Train frame\"\n",
        "\n",
        "CATEGORIES=[\"heart\",\"long\",\"oval\",\"round\",\"square\"]\n",
        "\n",
        "import os\n",
        "def validate_subfolders(path, categories):\n",
        "    missing_folders = []\n",
        "    for category in categories:\n",
        "        category_path = os.path.join(path, category)\n",
        "        if not os.path.exists(category_path):\n",
        "            missing_folders.append(category)\n",
        "    return missing_folders\n",
        "\n",
        "missing_folders_datatrain = validate_subfolders(path=TRAIN_DATASET, categories=CATEGORIES)\n",
        "if missing_folders_datatrain:\n",
        "    print(\"Missing subfolders in TRAIN_DATASET path:\", missing_folders_datatrain)\n",
        "else:\n",
        "    print(\"All subfolders present in TRAIN_DATASET path.\")\n",
        "\n",
        "missing_folders_datatest = validate_subfolders(TEST_DATASET, CATEGORIES)\n",
        "if missing_folders_datatest:\n",
        "    print(\"Missing subfolders in TEST_DATASET path:\", missing_folders_datatest)\n",
        "else:\n",
        "    print(\"All subfolders present in TEST_DATASET path.\")\n",
        "\n",
        "TRAIN_DATASET=\"/content/drive/MyDrive/Colab Notebooks/Face set/Train face\"\n",
        "TEST_DATASET=\"/content/drive/MyDrive/Colab Notebooks/Face set/Test face\"\n",
        "TEST_FRAME=\"/content/drive/MyDrive/Colab Notebooks/Face set/Train frame\"\n",
        "\n",
        "CATEGORIES=[\"heart\",\"long\",\"oval\",\"round\",\"square\"]\n",
        "\n",
        "import os\n",
        "def validate_subfolders(path, categories):\n",
        "    missing_folders = []\n",
        "    for category in categories:\n",
        "        category_path = os.path.join(path, category)\n",
        "        if not os.path.exists(category_path):\n",
        "            missing_folders.append(category)\n",
        "    return missing_folders\n",
        "TRAIN_DATASET=\"/content/drive/MyDrive/Colab Notebooks/Face set/Train face\"\n",
        "TEST_DATASET=\"/content/drive/MyDrive/Colab Notebooks/Face set/Test face\"\n",
        "TEST_FRAME=\"/content/drive/MyDrive/Colab Notebooks/Face set/Train frame\"\n",
        "\n",
        "CATEGORIES=[\"heart\",\"long\",\"oval\",\"round\",\"square\"]\n",
        "\n",
        "import os\n",
        "def validate_subfolders(path, categories):\n",
        "    missing_folders = []\n",
        "    for category in categories:\n",
        "        category_path = os.path.join(path, category)\n",
        "        if not os.path.exists(category_path):\n",
        "            missing_folders.append(category)\n",
        "    return missing_folders\n",
        "\n",
        "missing_folders_datatrain = validate_subfolders(path=TRAIN_DATASET, categories=CATEGORIES)\n",
        "if missing_folders_datatrain:\n",
        "    print(\"Missing subfolders in TRAIN_DATASET path:\", missing_folders_datatrain)\n",
        "else:\n",
        "    print(\"All subfolders present in TRAIN_DATASET path.\")\n",
        "\n",
        "missing_folders_datatest = validate_subfolders(TEST_DATASET, CATEGORIES)\n",
        "if missing_folders_datatest:\n",
        "    print(\"Missing subfolders in TEST_DATASET path:\", missing_folders_datatest)\n",
        "else:\n",
        "    print(\"All subfolders present in TEST_DATASET path.\")\n",
        "CATEGORIES=[\"heart\",\"long\",\"oval\",\"round\",\"square\"]\n",
        "\n",
        "missing_folders_datatest = validate_subfolders(TEST_DATASET, CATEGORIES)\n",
        "if missing_folders_datatest:\n",
        "    print(\"Missing subfolders in TEST_DATASET path:\", missing_folders_datatest)\n",
        "else:\n",
        "    print(\"All subfolders present in TEST_DATASET path.\")\n",
        "CATEGORIES=[\"heart\",\"long\",\"oval\",\"round\",\"square\"]"
      ]
    },
    {
      "cell_type": "code",
      "execution_count": 4,
      "metadata": {
        "id": "ARd-TiEU5JZQ"
      },
      "outputs": [],
      "source": [
        "import os\n",
        "import numpy as np\n",
        "import tensorflow as tf\n",
        "from tensorflow.keras.models import Sequential\n",
        "from tensorflow.keras.layers import Conv2D, MaxPooling2D, Flatten, Dense, Dropout\n",
        "from tensorflow.keras.preprocessing.image import ImageDataGenerator"
      ]
    },
    {
      "cell_type": "code",
      "execution_count": 5,
      "metadata": {
        "id": "sMIrMbBz5OZW"
      },
      "outputs": [],
      "source": [
        "train_dir = \"/content/drive/MyDrive/Colab Notebooks/Face set/Train face\"\n",
        "test_dir = \"/content/drive/MyDrive/Colab Notebooks/Face set/Test face\"\n",
        "frame_dir = \"/content/drive/MyDrive/Colab Notebooks/Face set/Train frame\""
      ]
    },
    {
      "cell_type": "code",
      "execution_count": 6,
      "metadata": {
        "id": "xJSJ0Bp85RQL"
      },
      "outputs": [],
      "source": [
        "img_size = (128, 128)\n",
        "batch_size = 32"
      ]
    },
    {
      "cell_type": "code",
      "execution_count": 7,
      "metadata": {
        "id": "N-arEvAl5T2A"
      },
      "outputs": [],
      "source": [
        "train_datagen = ImageDataGenerator(\n",
        "    rescale=1.0 / 255.0,\n",
        "    rotation_range=20,\n",
        "    width_shift_range=0.2,\n",
        "    height_shift_range=0.2,\n",
        "    horizontal_flip=True\n",
        ")\n",
        "\n",
        "test_datagen = ImageDataGenerator(rescale=1.0 / 255.0)"
      ]
    },
    {
      "cell_type": "code",
      "execution_count": 8,
      "metadata": {
        "colab": {
          "base_uri": "https://localhost:8080/"
        },
        "id": "9KLgnQSEsWkl",
        "outputId": "c14c7773-466e-40bf-ccf0-a35b50b69085"
      },
      "outputs": [
        {
          "name": "stdout",
          "output_type": "stream",
          "text": [
            "drive  sample_data\n",
            "Training directory found: /content/drive/MyDrive/Colab Notebooks/Face set/Train face\n",
            "Testing directory found: /content/drive/MyDrive/Colab Notebooks/Face set/Test face\n",
            "Training directory found: /content/drive/MyDrive/Colab Notebooks/Face set/Train frame\n",
            "Found 1615 images belonging to 5 classes.\n",
            "Found 1000 images belonging to 5 classes.\n",
            "Found 2491 images belonging to 5 classes.\n"
          ]
        }
      ],
      "source": [
        "import os\n",
        "!ls /content\n",
        "\n",
        "train_dir = \"/content/drive/MyDrive/Colab Notebooks/Face set/Train face\"\n",
        "test_dir = \"/content/drive/MyDrive/Colab Notebooks/Face set/Test face\"\n",
        "frame_dir = \"/content/drive/MyDrive/Colab Notebooks/Face set/Train frame\"\n",
        "\n",
        "if os.path.exists(train_dir):\n",
        "    print(f\"Training directory found: {train_dir}\")\n",
        "else:\n",
        "    print(f\"Training directory NOT found: {train_dir}\")\n",
        "\n",
        "    !unzip -o eyeglasses-segmentation-dataset.zip -d /content # Unzip again if extracted to an incorrect location\n",
        "\n",
        "if os.path.exists(test_dir):\n",
        "    print(f\"Testing directory found: {test_dir}\")\n",
        "else:\n",
        "    print(f\"Testing directory NOT found: {test_dir}\")\n",
        "\n",
        "if os.path.exists(frame_dir):\n",
        "    print(f\"Training directory found: {frame_dir}\")\n",
        "else:\n",
        "    print(f\"Training directory NOT found: {frame_dir}\")\n",
        "\n",
        "    !unzip -o eyeglasses-segmentation-dataset.zip -d /content\n",
        "\n",
        "train_data = train_datagen.flow_from_directory(\n",
        "    train_dir,\n",
        "    target_size=img_size,\n",
        "    batch_size=batch_size,\n",
        "    class_mode=\"categorical\"\n",
        ")\n",
        "\n",
        "test_data = test_datagen.flow_from_directory(\n",
        "    test_dir,\n",
        "    target_size=img_size,\n",
        "    batch_size=batch_size,\n",
        "    class_mode=\"categorical\"\n",
        ")\n",
        "\n",
        "frame_datagen = ImageDataGenerator(rescale=1.0 / 255.0)\n",
        "\n",
        "frame_data = frame_datagen.flow_from_directory(\n",
        "    frame_dir,\n",
        "    target_size=img_size,\n",
        "    batch_size=batch_size,\n",
        "    class_mode=\"categorical\"\n",
        ")"
      ]
    },
    {
      "cell_type": "code",
      "execution_count": 9,
      "metadata": {
        "colab": {
          "base_uri": "https://localhost:8080/"
        },
        "id": "Jbh0Y-IJ5imu",
        "outputId": "54391c33-7004-4132-c83e-b1102c7918bd"
      },
      "outputs": [
        {
          "name": "stdout",
          "output_type": "stream",
          "text": [
            "Class Names: ['heart', 'long', 'oval', 'round', 'square']\n"
          ]
        }
      ],
      "source": [
        "class_names = list(train_data.class_indices.keys())\n",
        "print(f\"Class Names: {class_names}\")"
      ]
    },
    {
      "cell_type": "code",
      "execution_count": 10,
      "metadata": {
        "colab": {
          "base_uri": "https://localhost:8080/"
        },
        "id": "ocq1OpGo5maH",
        "outputId": "f5a621cf-7508-43f2-e3c4-f69cfedcbf04"
      },
      "outputs": [
        {
          "name": "stderr",
          "output_type": "stream",
          "text": [
            "/usr/local/lib/python3.10/dist-packages/keras/src/layers/convolutional/base_conv.py:107: UserWarning: Do not pass an `input_shape`/`input_dim` argument to a layer. When using Sequential models, prefer using an `Input(shape)` object as the first layer in the model instead.\n",
            "  super().__init__(activity_regularizer=activity_regularizer, **kwargs)\n"
          ]
        }
      ],
      "source": [
        "model = Sequential([\n",
        "    Conv2D(32, (3, 3), activation='relu', input_shape=(img_size[0], img_size[1], 3)),\n",
        "    MaxPooling2D((2, 2)),\n",
        "    Conv2D(64, (3, 3), activation='relu'),\n",
        "    MaxPooling2D((2, 2)),\n",
        "    Conv2D(128, (3, 3), activation='relu'),\n",
        "    MaxPooling2D((2, 2)),\n",
        "    Flatten(),\n",
        "    Dense(128, activation='relu'),\n",
        "    Dropout(0.5),\n",
        "    Dense(len(train_data.class_indices), activation='softmax')\n",
        "])\n",
        "\n",
        "model.compile(optimizer='adam', loss='categorical_crossentropy', metrics=['accuracy'])"
      ]
    },
    {
      "cell_type": "code",
      "execution_count": 11,
      "metadata": {
        "colab": {
          "base_uri": "https://localhost:8080/"
        },
        "id": "6QymxutTznO_",
        "outputId": "231275b9-962c-49d7-ea41-4bff099ffb16"
      },
      "outputs": [
        {
          "name": "stdout",
          "output_type": "stream",
          "text": [
            "Found 1293 images belonging to 5 classes.\n",
            "Found 322 images belonging to 5 classes.\n",
            "Epoch 1/2\n"
          ]
        },
        {
          "name": "stderr",
          "output_type": "stream",
          "text": [
            "/usr/local/lib/python3.10/dist-packages/keras/src/trainers/data_adapters/py_dataset_adapter.py:122: UserWarning: Your `PyDataset` class should call `super().__init__(**kwargs)` in its constructor. `**kwargs` can include `workers`, `use_multiprocessing`, `max_queue_size`. Do not pass these arguments to `fit()`, as they will be ignored.\n",
            "  self._warn_if_super_not_called()\n"
          ]
        },
        {
          "name": "stdout",
          "output_type": "stream",
          "text": [
            "\u001b[1m41/41\u001b[0m \u001b[32m━━━━━━━━━━━━━━━━━━━━\u001b[0m\u001b[37m\u001b[0m \u001b[1m407s\u001b[0m 9s/step - accuracy: 0.1935 - loss: 5.8562 - val_accuracy: 0.2422 - val_loss: 1.6037\n",
            "Epoch 2/2\n",
            "\u001b[1m41/41\u001b[0m \u001b[32m━━━━━━━━━━━━━━━━━━━━\u001b[0m\u001b[37m\u001b[0m \u001b[1m194s\u001b[0m 4s/step - accuracy: 0.2763 - loss: 1.5820 - val_accuracy: 0.2484 - val_loss: 1.5991\n"
          ]
        },
        {
          "data": {
            "text/plain": [
              "<keras.src.callbacks.history.History at 0x7d21a7116380>"
            ]
          },
          "execution_count": 11,
          "metadata": {},
          "output_type": "execute_result"
        }
      ],
      "source": [
        "from tensorflow.keras.preprocessing.image import ImageDataGenerator\n",
        "from tensorflow.keras.models import Sequential\n",
        "from tensorflow.keras.layers import Conv2D, MaxPooling2D, Flatten, Dense, Dropout\n",
        "from tensorflow.keras.optimizers import Adam\n",
        "from tensorflow.keras.preprocessing import image\n",
        "import numpy as np\n",
        "import os\n",
        "\n",
        "TRAIN_DATASET = \"/content/drive/MyDrive/Colab Notebooks/Face set/Train face\"\n",
        "TEST_DATASET = \"/content/drive/MyDrive/Colab Notebooks/Face set/Test face\"\n",
        "CATEGORIES = [\"heart\", \"long\", \"oval\", \"round\", \"square\"]\n",
        "\n",
        "IMG_SIZE = (224, 224)\n",
        "BATCH_SIZE = 32\n",
        "\n",
        "datagen = ImageDataGenerator(rescale=1./255, validation_split=0.2)\n",
        "\n",
        "train_generator = datagen.flow_from_directory(\n",
        "    TRAIN_DATASET,\n",
        "    target_size=IMG_SIZE,\n",
        "    batch_size=BATCH_SIZE,\n",
        "    class_mode='categorical',\n",
        "    subset='training'\n",
        ")\n",
        "\n",
        "validation_generator = datagen.flow_from_directory(\n",
        "    TRAIN_DATASET,\n",
        "    target_size=IMG_SIZE,\n",
        "    batch_size=BATCH_SIZE,\n",
        "    class_mode='categorical',\n",
        "    subset='validation'\n",
        ")\n",
        "\n",
        "model = Sequential([\n",
        "    Conv2D(32, (3, 3), activation='relu', input_shape=(224, 224, 3)),\n",
        "    MaxPooling2D(2, 2),\n",
        "    Conv2D(64, (3, 3), activation='relu'),\n",
        "    MaxPooling2D(2, 2),\n",
        "    Flatten(),\n",
        "    Dense(128, activation='relu'),\n",
        "    Dropout(0.5),\n",
        "    Dense(len(CATEGORIES), activation='softmax')\n",
        "])\n",
        "\n",
        "model.compile(optimizer=Adam(learning_rate=0.001),\n",
        "              loss='categorical_crossentropy',\n",
        "              metrics=['accuracy'])\n",
        "\n",
        "model.fit(train_generator, epochs=20, validation_data=validation_generator)\n",
        "\n"
      ]
    },
    {
      "cell_type": "code",
      "execution_count": 14,
      "metadata": {
        "colab": {
          "base_uri": "https://localhost:8080/"
        },
        "id": "DtUVE9onMGw2",
        "outputId": "1d34a315-312a-435f-d560-403872c1553f"
      },
      "outputs": [
        {
          "name": "stdout",
          "output_type": "stream",
          "text": [
            "\u001b[1m1/1\u001b[0m \u001b[32m━━━━━━━━━━━━━━━━━━━━\u001b[0m\u001b[37m\u001b[0m \u001b[1m0s\u001b[0m 50ms/step\n",
            "Predicted Face Shape: long\n",
            "Recommended Glasses Frame: Tall frames with decorative temples\n"
          ]
        }
      ],
      "source": [
        "recommendations = {\n",
        "    \"heart\": \"Round or oval frames\",\n",
        "    \"long\": \"Tall frames with decorative temples\",\n",
        "    \"oval\": \"Square or rectangular frames\",\n",
        "    \"round\": \"Square or angular frames\",\n",
        "    \"square\": \"Round or oval frames\"\n",
        "}\n",
        "\n",
        "def recommend_glasses(image_path):\n",
        "    img = image.load_img(image_path, target_size=IMG_SIZE)\n",
        "    img_array = image.img_to_array(img) / 255.0\n",
        "    img_array = np.expand_dims(img_array, axis=0)\n",
        "    prediction = model.predict(img_array)\n",
        "    predicted_index = np.argmax(prediction)\n",
        "    predicted_shape = CATEGORIES[predicted_index]\n",
        "    return predicted_shape, recommendations.get(predicted_shape, \"No recommendation available\")\n",
        "\n",
        "test_image_path = \"/content/drive/MyDrive/Colab Notebooks/Face set/Test face/long/oblong (106).jpg\"\n",
        "predicted_shape, frame_recommendation = recommend_glasses(test_image_path)\n",
        "print(f\"Predicted Face Shape: {predicted_shape}\")\n",
        "print(f\"Recommended Glasses Frame: {frame_recommendation}\")"
      ]
    },
    {
      "cell_type": "code",
      "execution_count": 13,
      "metadata": {
        "colab": {
          "base_uri": "https://localhost:8080/",
          "height": 1000
        },
        "id": "PuM0nU4-yvGq",
        "outputId": "a471b585-d667-4e62-cb53-42e04610eaf8"
      },
      "outputs": [
        {
          "data": {
            "image/png": "[encoded data removed]",
            "text/plain": [
              "<Figure size 1500x1000 with 6 Axes>"
            ]
          },
          "metadata": {},
          "output_type": "display_data"
        }
      ],
      "source": [
        "import os\n",
        "import matplotlib.pyplot as plt\n",
        "import cv2 as cv\n",
        "\n",
        "DATASET = \"/content/drive/MyDrive/Colab Notebooks/Face set/Train frame\"\n",
        "\n",
        "CATEGORIES = [\"heart\", \"long\", \"oval\", \"round\", \"square\"]\n",
        "\n",
        "fig, axes = plt.subplots(2, 3, figsize=(15, 10))\n",
        "\n",
        "axes = axes.flatten()\n",
        "\n",
        "for i, category in enumerate(CATEGORIES):\n",
        "    path = os.path.join(DATASET, category)\n",
        "    img_files = os.listdir(path)\n",
        "\n",
        "    if img_files:\n",
        "        img_file = img_files[0]\n",
        "        img_path = os.path.join(path, img_file)\n",
        "\n",
        "        img = cv.imread(img_path, 1)\n",
        "        img = cv.cvtColor(img, cv.COLOR_BGR2RGB)\n",
        "        axes[i].imshow(img)\n",
        "        axes[i].set_title(f\"Frame for {category} face shape\")\n",
        "        axes[i].axis('off')\n",
        "    else:\n",
        "        print(f\"No images found in category: {category}\")\n",
        "\n",
        "for j in range(len(CATEGORIES), len(axes)):\n",
        "    axes[j].set_visible(False)\n",
        "\n",
        "plt.tight_layout()\n",
        "plt.show()"
      ]
    }
  ],
  "metadata": {
    "colab": {
      "provenance": []
    },
    "kernelspec": {
      "display_name": "base",
      "language": "python",
      "name": "python3"
    },
    "language_info": {
      "codemirror_mode": {
        "name": "ipython",
        "version": 3
      },
      "file_extension": ".py",
      "mimetype": "text/x-python",
      "name": "python",
      "nbconvert_exporter": "python",
      "pygments_lexer": "ipython3",
      "version": "3.8.3"
    }
  },
  "nbformat": 4,
  "nbformat_minor": 0
}
